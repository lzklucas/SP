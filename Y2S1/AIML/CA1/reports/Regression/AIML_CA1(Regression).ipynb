{
 "cells": [
  {
   "cell_type": "markdown",
   "id": "1f5d02fb",
   "metadata": {},
   "source": [
    "# Part B: Regression"
   ]
  },
  {
   "cell_type": "markdown",
   "id": "cef14a1c",
   "metadata": {},
   "source": [
    "**<font size=4>\n",
    "Prediction Task**"
   ]
  },
  {
   "cell_type": "markdown",
   "id": "f493c442",
   "metadata": {},
   "source": [
    "**How is your prediction task defined?**\n",
    "\n",
    "-\n",
    "\n",
    "**What is the meaning of the output variable?**\n",
    "\n",
    "-"
   ]
  }
 ],
 "metadata": {
  "kernelspec": {
   "display_name": "Python 3 (ipykernel)",
   "language": "python",
   "name": "python3"
  },
  "language_info": {
   "codemirror_mode": {
    "name": "ipython",
    "version": 3
   },
   "file_extension": ".py",
   "mimetype": "text/x-python",
   "name": "python",
   "nbconvert_exporter": "python",
   "pygments_lexer": "ipython3",
   "version": "3.10.9"
  }
 },
 "nbformat": 4,
 "nbformat_minor": 5
}
