{
 "cells": [
  {
   "attachments": {},
   "cell_type": "markdown",
   "id": "1f5d02fb",
   "metadata": {},
   "source": [
    "# Part B: Regression"
   ]
  },
  {
   "attachments": {},
   "cell_type": "markdown",
   "id": "cef14a1c",
   "metadata": {},
   "source": [
    "**<font size=4>\n",
    "Prediction Task**"
   ]
  },
  {
   "attachments": {},
   "cell_type": "markdown",
   "id": "f493c442",
   "metadata": {},
   "source": [
    "**How is your prediction task defined?**\n",
    "\n",
    "- We are given a dataset containing housing prices in the US with other attributes such as city, house area, renovation status, etc.\n",
    "- The prediction task is to create a predicive regression model to predict the housing prices based of these attributes\n",
    "\n",
    "**What is the meaning of the output variable?**\n",
    "\n",
    "- The output variable is Price($)\n",
    "- This is how much the house is sold at in dollars ($)\n",
    "- As the output variable is a continuous (numerical) variable, we reuire a regression model\n"
   ]
  },
  {
   "attachments": {},
   "cell_type": "markdown",
   "id": "f45c30f2",
   "metadata": {},
   "source": [
    "# Background Research"
   ]
  },
  {
   "attachments": {},
   "cell_type": "markdown",
   "id": "be4ffbe9",
   "metadata": {},
   "source": [
    "Incomplete"
   ]
  },
  {
   "attachments": {},
   "cell_type": "markdown",
   "id": "f78e09b9",
   "metadata": {},
   "source": [
    "# References"
   ]
  },
  {
   "attachments": {},
   "cell_type": "markdown",
   "id": "ee38e1a8",
   "metadata": {},
   "source": [
    "* scikit link...\n",
    "* pearson r link...\n",
    "* background research link...\n",
    "* dataset source"
   ]
  },
  {
   "attachments": {},
   "cell_type": "markdown",
   "id": "bf489343",
   "metadata": {},
   "source": [
    "# Importing Libraries"
   ]
  },
  {
   "cell_type": "code",
   "execution_count": 3,
   "id": "acab21f5",
   "metadata": {},
   "outputs": [],
   "source": [
    "import numpy as np\n",
    "import scipy as sp\n",
    "import matplotlib.pyplot as plt\n",
    "import pandas as pd\n",
    "import seaborn as sns\n",
    "from tqdm import tqdm\n",
    "sns.set()\n",
    "\n",
    "\n",
    "# Experimental\n",
    "from sklearn.experimental import enable_halving_search_cv, enable_hist_gradient_boosting\n",
    "\n",
    "# Base Classes\n",
    "from sklearn.base import BaseEstimator, TransformerMixin\n",
    "\n",
    "# Model Evaluation\n",
    "from sklearn.model_selection import train_test_split, cross_validate, KFold, learning_curve\n",
    "from statsmodels.api import qqplot\n",
    "from sklearn.inspection import permutation_importance\n",
    "from sklearn.metrics import mean_absolute_error, mean_absolute_percentage_error, r2_score, mean_squared_error\n",
    "\n",
    "# Data Preprocessing\n",
    "from sklearn.pipeline import Pipeline\n",
    "from sklearn.compose import ColumnTransformer, TransformedTargetRegressor\n",
    "from sklearn.preprocessing import StandardScaler, RobustScaler, MinMaxScaler, QuantileTransformer, PolynomialFeatures, OneHotEncoder, PowerTransformer\n",
    "from sklearn.impute import MissingIndicator, SimpleImputer\n",
    "from sklearn.decomposition import PCA\n",
    "from sklearn.cluster import FeatureAgglomeration\n",
    "\n",
    "# Models\n",
    "from sklearn.dummy import DummyRegressor\n",
    "from sklearn.linear_model import LinearRegression, Ridge, Lasso\n",
    "from sklearn.tree import DecisionTreeRegressor\n",
    "from sklearn.ensemble import RandomForestRegressor, ExtraTreesRegressor, GradientBoostingRegressor, HistGradientBoostingRegressor\n",
    "from sklearn.svm import LinearSVR\n",
    "\n",
    "# Hyperparameter Tuning\n",
    "from sklearn.model_selection import HalvingRandomSearchCV, HalvingGridSearchCV, validation_curve, RandomizedSearchCV\n",
    "\n",
    "\n",
    "# Feature Selection\n",
    "from sklearn.feature_selection import SelectFromModel, RFECV, SelectKBest, SequentialFeatureSelector, VarianceThreshold, mutual_info_regression, RFE\n",
    "\n",
    "# Random State Instance. Using a RandomState instance sets the seed for the RNG generator. This allows for reproducible results, while still ensuring robust results (e.g. not overfitting to the random state)\n",
    "# random_state = np.random.RandomState(42) # also note that for cross validation, the splitter will be passed an integer while the actual estimator will be passed the random state instance, as recommended by scikit-learn documentation."
   ]
  },
  {
   "attachments": {},
   "cell_type": "markdown",
   "id": "f81adfe9",
   "metadata": {},
   "source": [
    "# Defining Utitlity Functions"
   ]
  },
  {
   "attachments": {},
   "cell_type": "markdown",
   "id": "0bb0d3d6",
   "metadata": {},
   "source": [
    "Functions that wil be used"
   ]
  },
  {
   "attachments": {},
   "cell_type": "markdown",
   "id": "4125a894",
   "metadata": {},
   "source": [
    "- Plot learning curve\n",
    "- Plot validation curve\n",
    "- Plot outliers\n",
    "- Countplot"
   ]
  },
  {
   "cell_type": "code",
   "execution_count": 4,
   "id": "6d360768",
   "metadata": {},
   "outputs": [],
   "source": [
    "\n",
    "def plot_learning_curve(model, X, y, scoring, cv = KFold(shuffle=True, random_state = 42), train_sizes = np.linspace(.1, 1.0, 5)):\n",
    "  try:\n",
    "    model_name = type(model[-1]).__name__ \n",
    "  except:\n",
    "    model_name = type(model).__name__\n",
    "  fig, ax = plt.subplots(figsize=(10, 8))\n",
    "  train_sizes, train_scores, test_scores = learning_curve(model, X, y, cv = cv, n_jobs = -1, train_sizes = train_sizes, scoring=scoring)\n",
    "  scores = pd.DataFrame({\n",
    "      \"Train Sizes\" : np.tile(train_sizes, train_scores.shape[1]),\n",
    "      \"Train Scores\" : train_scores.flatten(),\n",
    "      \"Test Scores\" : test_scores.flatten()\n",
    "  }).melt(value_vars=[\"Train Scores\", \"Test Scores\"], var_name=\"Score Type\", value_name=\"Scores\", id_vars=[\"Train Sizes\"])\n",
    "  sns.lineplot(data=scores, x=\"Train Sizes\", y=\"Scores\", hue=\"Score Type\", ax = ax)\n",
    "  ax.set_title(f\"Learning Curve of {model_name}\")\n",
    "  ax.set_ylabel(f\"{scoring}\")\n",
    "  ax.set_xlabel(\"Train Sizes\")\n",
    "  return fig\n",
    "\n",
    "def plot_validation_curve(model, X, y, param_name, param_range, scoring=\"neg_mean_absolute_error\", cv=KFold(shuffle=True, random_state = 42)):\n",
    "  try:\n",
    "    model_name = type(model[-1]).__name__ \n",
    "  except:\n",
    "    model_name = type(model).__name__\n",
    "  fig, ax = plt.subplots(figsize=(10, 8))\n",
    "  train_scores, test_scores = validation_curve(model, X, y, param_name = param_name, param_range = param_range, scoring=scoring, n_jobs = -1)\n",
    "  scores = pd.DataFrame({\n",
    "      \"Param Range\" : np.tile(param_range, train_scores.shape[1]),\n",
    "      \"Train Scores\" : train_scores.flatten(),\n",
    "      \"Test Scores\" : test_scores.flatten()\n",
    "  }).melt(value_vars=[\"Train Scores\", \"Test Scores\"], var_name=\"Score Type\", value_name=\"Scores\", id_vars=[\"Param Range\"])\n",
    "  \n",
    "  sns.lineplot(data=scores, x=\"Param Range\", y=\"Scores\", hue=\"Score Type\", ax = ax)\n",
    "  ax.set_title(f\"Validation Curve of {model_name} ({param_name})\")\n",
    "  ax.set_ylabel(f\"{scoring}\")\n",
    "  ax.set_xlabel(f\"{param_name}\")\n",
    "  return fig\n",
    "\n",
    "def outlierDetection(df, var, sort = True, deskew=True):\n",
    "    \"\"\"\n",
    "    Utilty function for detecting basic outliers. Prints out no. of outliers, shows first 5 outliers and displays a box plot. Outliers are defined in this case by Tukey's fences, where outliers are data points above or below the upper or lower quantiles by 1.5 * IQR.\n",
    "\n",
    "    Parameters:\n",
    "        df = DataFrame to detect outliers in\n",
    "        var = name of column where outlier detection is performed\n",
    "        sort = should the returned dataset be sorted?\n",
    "    Returns:\n",
    "        Dataset which only includes outliers\n",
    "    \"\"\"\n",
    "    if deskew:\n",
    "      col = df[var].apply(np.log)\n",
    "    else:\n",
    "      col = df[var]\n",
    "    Q3 = col.quantile(0.75)\n",
    "    Q1 = col.quantile(0.25)\n",
    "    IQR = Q3 - Q1\n",
    "    UpperFence = Q3 + 1.5 * IQR\n",
    "    LowerFence = Q1 - 1.5 * IQR\n",
    "    mask = (col > UpperFence) | (col < LowerFence)\n",
    "    outlier_df = df[mask]\n",
    "    if len(outlier_df) == 0:\n",
    "        print(\"No Outliers\")\n",
    "    else:\n",
    "        print(\"Outliers in Series (First 5)\")\n",
    "        display(outlier_df.head())\n",
    "        print(\"No. of Outliers:\", len(outlier_df))\n",
    "    sns.boxplot(y = var,data = df, orient= \"h\")\n",
    "    sns.despine(left = True)\n",
    "    plt.title(f\"Box Plot of {var}\")\n",
    "    plt.show()\n",
    "    if sort:\n",
    "        return outlier_df.sort_values(var)\n",
    "    else:\n",
    "        return outlier_df\n",
    "\n",
    "\n",
    "def cat_plot(df, features, figsize = (10, 20)):\n",
    "    fig, ax = plt.subplots(len(features), 1, figsize= figsize, tight_layout = True)\n",
    "    for idx, feature in enumerate(features):\n",
    "        ax[idx].set_title(\"Counts of \" + feature)\n",
    "        # counts = df[feature].value_counts()\n",
    "        sns.countplot(data = df, y = feature, ax = ax[idx])\n",
    "    return fig"
   ]
  },
  {
   "attachments": {},
   "cell_type": "markdown",
   "id": "68ea629f",
   "metadata": {},
   "source": [
    "# Data Exploration"
   ]
  },
  {
   "attachments": {},
   "cell_type": "markdown",
   "id": "8f679935",
   "metadata": {},
   "source": [
    "* Conduct an exploratory data analysis of the data, to gain a better understanding of the characteristics of the dataset.\n",
    "* To prevent the mutation of original data, I will make a copy to perform EDA on it\n",
    "* The data set is constructed from the housing infromation of 545 houses in the US"
   ]
  },
  {
   "attachments": {},
   "cell_type": "markdown",
   "id": "3969021f",
   "metadata": {},
   "source": [
    "**Objectives for EDA**\n",
    "- How many rows and how many columns are there\n",
    "- Distribution of the target variable (Price ($))\n",
    "- Distribution of the columns in our dataset\n",
    "- Missing values present\n",
    "- Outliers present\n",
    "- Correlation between variables \n",
    "- Corerlation between variables and target variable (Price ($))"
   ]
  },
  {
   "attachments": {},
   "cell_type": "markdown",
   "id": "07595d0e",
   "metadata": {},
   "source": [
    "**Metadata**\n",
    "* House ID: Unique house identifier ranging from 0 to 544\n",
    "* City: Which city the house is located\n",
    "* House Area: Size of the house in square meters\n",
    "* No. of Bedrooms: How many bedrooms in the house\n",
    "* No. of Toilets: How many toilets in the house\n",
    "* Stories: The number of stories in the house\n",
    "* Renovation Status: How well the house is renovated\n",
    "* Price: The price of the house in US dollars"
   ]
  },
  {
   "cell_type": "code",
   "execution_count": 6,
   "id": "50f8be24",
   "metadata": {},
   "outputs": [
    {
     "data": {
      "text/html": [
       "<div>\n",
       "<style scoped>\n",
       "    .dataframe tbody tr th:only-of-type {\n",
       "        vertical-align: middle;\n",
       "    }\n",
       "\n",
       "    .dataframe tbody tr th {\n",
       "        vertical-align: top;\n",
       "    }\n",
       "\n",
       "    .dataframe thead th {\n",
       "        text-align: right;\n",
       "    }\n",
       "</style>\n",
       "<table border=\"1\" class=\"dataframe\">\n",
       "  <thead>\n",
       "    <tr style=\"text-align: right;\">\n",
       "      <th></th>\n",
       "      <th>House ID</th>\n",
       "      <th>City</th>\n",
       "      <th>House Area (sqm)</th>\n",
       "      <th>No. of Bedrooms</th>\n",
       "      <th>No. of Toilets</th>\n",
       "      <th>Stories</th>\n",
       "      <th>Renovation Status</th>\n",
       "      <th>Price ($)</th>\n",
       "    </tr>\n",
       "  </thead>\n",
       "  <tbody>\n",
       "    <tr>\n",
       "      <th>0</th>\n",
       "      <td>0</td>\n",
       "      <td>Chicago</td>\n",
       "      <td>742.0</td>\n",
       "      <td>4</td>\n",
       "      <td>2</td>\n",
       "      <td>3</td>\n",
       "      <td>furnished</td>\n",
       "      <td>1330000</td>\n",
       "    </tr>\n",
       "    <tr>\n",
       "      <th>1</th>\n",
       "      <td>1</td>\n",
       "      <td>Denver</td>\n",
       "      <td>896.0</td>\n",
       "      <td>4</td>\n",
       "      <td>4</td>\n",
       "      <td>4</td>\n",
       "      <td>furnished</td>\n",
       "      <td>1225000</td>\n",
       "    </tr>\n",
       "    <tr>\n",
       "      <th>2</th>\n",
       "      <td>2</td>\n",
       "      <td>Chicago</td>\n",
       "      <td>996.0</td>\n",
       "      <td>3</td>\n",
       "      <td>2</td>\n",
       "      <td>2</td>\n",
       "      <td>semi-furnished</td>\n",
       "      <td>1225000</td>\n",
       "    </tr>\n",
       "    <tr>\n",
       "      <th>3</th>\n",
       "      <td>3</td>\n",
       "      <td>Seattle</td>\n",
       "      <td>750.0</td>\n",
       "      <td>4</td>\n",
       "      <td>2</td>\n",
       "      <td>2</td>\n",
       "      <td>furnished</td>\n",
       "      <td>1221500</td>\n",
       "    </tr>\n",
       "    <tr>\n",
       "      <th>4</th>\n",
       "      <td>4</td>\n",
       "      <td>New York</td>\n",
       "      <td>742.0</td>\n",
       "      <td>4</td>\n",
       "      <td>1</td>\n",
       "      <td>2</td>\n",
       "      <td>furnished</td>\n",
       "      <td>1141000</td>\n",
       "    </tr>\n",
       "    <tr>\n",
       "      <th>...</th>\n",
       "      <td>...</td>\n",
       "      <td>...</td>\n",
       "      <td>...</td>\n",
       "      <td>...</td>\n",
       "      <td>...</td>\n",
       "      <td>...</td>\n",
       "      <td>...</td>\n",
       "      <td>...</td>\n",
       "    </tr>\n",
       "    <tr>\n",
       "      <th>540</th>\n",
       "      <td>540</td>\n",
       "      <td>Seattle</td>\n",
       "      <td>300.0</td>\n",
       "      <td>2</td>\n",
       "      <td>1</td>\n",
       "      <td>1</td>\n",
       "      <td>unfurnished</td>\n",
       "      <td>182000</td>\n",
       "    </tr>\n",
       "    <tr>\n",
       "      <th>541</th>\n",
       "      <td>541</td>\n",
       "      <td>New York</td>\n",
       "      <td>240.0</td>\n",
       "      <td>3</td>\n",
       "      <td>1</td>\n",
       "      <td>1</td>\n",
       "      <td>semi-furnished</td>\n",
       "      <td>176715</td>\n",
       "    </tr>\n",
       "    <tr>\n",
       "      <th>542</th>\n",
       "      <td>542</td>\n",
       "      <td>Boston</td>\n",
       "      <td>362.0</td>\n",
       "      <td>2</td>\n",
       "      <td>1</td>\n",
       "      <td>1</td>\n",
       "      <td>unfurnished</td>\n",
       "      <td>175000</td>\n",
       "    </tr>\n",
       "    <tr>\n",
       "      <th>543</th>\n",
       "      <td>543</td>\n",
       "      <td>Seattle</td>\n",
       "      <td>291.0</td>\n",
       "      <td>3</td>\n",
       "      <td>1</td>\n",
       "      <td>1</td>\n",
       "      <td>furnished</td>\n",
       "      <td>175000</td>\n",
       "    </tr>\n",
       "    <tr>\n",
       "      <th>544</th>\n",
       "      <td>544</td>\n",
       "      <td>Chicago</td>\n",
       "      <td>385.0</td>\n",
       "      <td>3</td>\n",
       "      <td>1</td>\n",
       "      <td>2</td>\n",
       "      <td>unfurnished</td>\n",
       "      <td>175000</td>\n",
       "    </tr>\n",
       "  </tbody>\n",
       "</table>\n",
       "<p>545 rows × 8 columns</p>\n",
       "</div>"
      ],
      "text/plain": [
       "     House ID      City  House Area (sqm)  No. of Bedrooms  No. of Toilets  \\\n",
       "0           0   Chicago             742.0                4               2   \n",
       "1           1    Denver             896.0                4               4   \n",
       "2           2   Chicago             996.0                3               2   \n",
       "3           3   Seattle             750.0                4               2   \n",
       "4           4  New York             742.0                4               1   \n",
       "..        ...       ...               ...              ...             ...   \n",
       "540       540   Seattle             300.0                2               1   \n",
       "541       541  New York             240.0                3               1   \n",
       "542       542    Boston             362.0                2               1   \n",
       "543       543   Seattle             291.0                3               1   \n",
       "544       544   Chicago             385.0                3               1   \n",
       "\n",
       "     Stories Renovation Status  Price ($)  \n",
       "0          3         furnished    1330000  \n",
       "1          4         furnished    1225000  \n",
       "2          2    semi-furnished    1225000  \n",
       "3          2         furnished    1221500  \n",
       "4          2         furnished    1141000  \n",
       "..       ...               ...        ...  \n",
       "540        1       unfurnished     182000  \n",
       "541        1    semi-furnished     176715  \n",
       "542        1       unfurnished     175000  \n",
       "543        1         furnished     175000  \n",
       "544        2       unfurnished     175000  \n",
       "\n",
       "[545 rows x 8 columns]"
      ]
     },
     "execution_count": 6,
     "metadata": {},
     "output_type": "execute_result"
    }
   ],
   "source": [
    "# Import the dataset\n",
    "housing_df = pd.read_csv('../../datasets/housing_dataset.csv')\n",
    "housing_df"
   ]
  },
  {
   "cell_type": "code",
   "execution_count": 7,
   "id": "5c8324b6",
   "metadata": {},
   "outputs": [],
   "source": [
    "housing_eda = housing_df.copy()"
   ]
  },
  {
   "attachments": {},
   "cell_type": "markdown",
   "id": "e8c83ddc",
   "metadata": {},
   "source": [
    "# Descriptive Analysis"
   ]
  },
  {
   "cell_type": "code",
   "execution_count": 8,
   "id": "7a929ace",
   "metadata": {},
   "outputs": [
    {
     "name": "stdout",
     "output_type": "stream",
     "text": [
      "<class 'pandas.core.frame.DataFrame'>\n",
      "RangeIndex: 545 entries, 0 to 544\n",
      "Data columns (total 8 columns):\n",
      " #   Column             Non-Null Count  Dtype  \n",
      "---  ------             --------------  -----  \n",
      " 0   House ID           545 non-null    int64  \n",
      " 1   City               545 non-null    object \n",
      " 2   House Area (sqm)   545 non-null    float64\n",
      " 3   No. of Bedrooms    545 non-null    int64  \n",
      " 4   No. of Toilets     545 non-null    int64  \n",
      " 5   Stories            545 non-null    int64  \n",
      " 6   Renovation Status  545 non-null    object \n",
      " 7   Price ($)          545 non-null    int64  \n",
      "dtypes: float64(1), int64(5), object(2)\n",
      "memory usage: 34.2+ KB\n"
     ]
    }
   ],
   "source": [
    "housing_eda.info()"
   ]
  },
  {
   "attachments": {},
   "cell_type": "markdown",
   "id": "7d36149b",
   "metadata": {},
   "source": [
    "- There are 545 rows and 8 columns in this dataset\n",
    "- There appears to be no missing values in the dataset\n",
    "- House ID contain identifiers for each house\n",
    "- As this value does not provide any insight to my analysis, it would be best to drop this column\n"
   ]
  },
  {
   "cell_type": "code",
   "execution_count": 10,
   "id": "81b13831",
   "metadata": {},
   "outputs": [
    {
     "data": {
      "text/html": [
       "<div>\n",
       "<style scoped>\n",
       "    .dataframe tbody tr th:only-of-type {\n",
       "        vertical-align: middle;\n",
       "    }\n",
       "\n",
       "    .dataframe tbody tr th {\n",
       "        vertical-align: top;\n",
       "    }\n",
       "\n",
       "    .dataframe thead th {\n",
       "        text-align: right;\n",
       "    }\n",
       "</style>\n",
       "<table border=\"1\" class=\"dataframe\">\n",
       "  <thead>\n",
       "    <tr style=\"text-align: right;\">\n",
       "      <th></th>\n",
       "      <th>count</th>\n",
       "      <th>mean</th>\n",
       "      <th>std</th>\n",
       "      <th>min</th>\n",
       "      <th>25%</th>\n",
       "      <th>50%</th>\n",
       "      <th>75%</th>\n",
       "      <th>max</th>\n",
       "    </tr>\n",
       "  </thead>\n",
       "  <tbody>\n",
       "    <tr>\n",
       "      <th>House ID</th>\n",
       "      <td>545.0</td>\n",
       "      <td>272.000000</td>\n",
       "      <td>157.472220</td>\n",
       "      <td>0.0</td>\n",
       "      <td>136.0</td>\n",
       "      <td>272.0</td>\n",
       "      <td>408.0</td>\n",
       "      <td>544.0</td>\n",
       "    </tr>\n",
       "    <tr>\n",
       "      <th>House Area (sqm)</th>\n",
       "      <td>545.0</td>\n",
       "      <td>515.054128</td>\n",
       "      <td>217.014102</td>\n",
       "      <td>165.0</td>\n",
       "      <td>360.0</td>\n",
       "      <td>460.0</td>\n",
       "      <td>636.0</td>\n",
       "      <td>1620.0</td>\n",
       "    </tr>\n",
       "    <tr>\n",
       "      <th>No. of Bedrooms</th>\n",
       "      <td>545.0</td>\n",
       "      <td>2.965138</td>\n",
       "      <td>0.738064</td>\n",
       "      <td>1.0</td>\n",
       "      <td>2.0</td>\n",
       "      <td>3.0</td>\n",
       "      <td>3.0</td>\n",
       "      <td>6.0</td>\n",
       "    </tr>\n",
       "    <tr>\n",
       "      <th>No. of Toilets</th>\n",
       "      <td>545.0</td>\n",
       "      <td>1.286239</td>\n",
       "      <td>0.502470</td>\n",
       "      <td>1.0</td>\n",
       "      <td>1.0</td>\n",
       "      <td>1.0</td>\n",
       "      <td>2.0</td>\n",
       "      <td>4.0</td>\n",
       "    </tr>\n",
       "    <tr>\n",
       "      <th>Stories</th>\n",
       "      <td>545.0</td>\n",
       "      <td>1.805505</td>\n",
       "      <td>0.867492</td>\n",
       "      <td>1.0</td>\n",
       "      <td>1.0</td>\n",
       "      <td>2.0</td>\n",
       "      <td>2.0</td>\n",
       "      <td>4.0</td>\n",
       "    </tr>\n",
       "    <tr>\n",
       "      <th>Price ($)</th>\n",
       "      <td>545.0</td>\n",
       "      <td>476672.924771</td>\n",
       "      <td>187043.961566</td>\n",
       "      <td>175000.0</td>\n",
       "      <td>343000.0</td>\n",
       "      <td>434000.0</td>\n",
       "      <td>574000.0</td>\n",
       "      <td>1330000.0</td>\n",
       "    </tr>\n",
       "  </tbody>\n",
       "</table>\n",
       "</div>"
      ],
      "text/plain": [
       "                  count           mean            std       min       25%  \\\n",
       "House ID          545.0     272.000000     157.472220       0.0     136.0   \n",
       "House Area (sqm)  545.0     515.054128     217.014102     165.0     360.0   \n",
       "No. of Bedrooms   545.0       2.965138       0.738064       1.0       2.0   \n",
       "No. of Toilets    545.0       1.286239       0.502470       1.0       1.0   \n",
       "Stories           545.0       1.805505       0.867492       1.0       1.0   \n",
       "Price ($)         545.0  476672.924771  187043.961566  175000.0  343000.0   \n",
       "\n",
       "                       50%       75%        max  \n",
       "House ID             272.0     408.0      544.0  \n",
       "House Area (sqm)     460.0     636.0     1620.0  \n",
       "No. of Bedrooms        3.0       3.0        6.0  \n",
       "No. of Toilets         1.0       2.0        4.0  \n",
       "Stories                2.0       2.0        4.0  \n",
       "Price ($)         434000.0  574000.0  1330000.0  "
      ]
     },
     "execution_count": 10,
     "metadata": {},
     "output_type": "execute_result"
    }
   ],
   "source": [
    "descriptive_stats = housing_eda.describe().T\n",
    "descriptive_stats"
   ]
  },
  {
   "attachments": {},
   "cell_type": "markdown",
   "id": "91a95d1a",
   "metadata": {},
   "source": [
    "- House Area (sqm) is likely to be postively skewed with outliers as the max area is larger than the upper quartile (75%)\n",
    "- Similarly, Price($) is likely to be positively skewed as well, becuase the max housing price is much larger compared to the upper quartile (75%)\n",
    "- House Area (sqm) and Price ($) are both continuous variables \n",
    "- Apart from that, No. of Bedrooms, No. of Toilets and Stories are all discrete variables"
   ]
  },
  {
   "attachments": {},
   "cell_type": "markdown",
   "id": "aa0e26d2",
   "metadata": {},
   "source": [
    "# Univariate Analysis"
   ]
  },
  {
   "attachments": {},
   "cell_type": "markdown",
   "id": "bce20b45",
   "metadata": {},
   "source": [
    "**Target Variable Distribution: Price($)**"
   ]
  },
  {
   "cell_type": "code",
   "execution_count": 28,
   "id": "ebd6c52c",
   "metadata": {},
   "outputs": [
    {
     "data": {
      "image/png": "[encoded data removed]",
      "text/plain": [
       "<Figure size 800x800 with 1 Axes>"
      ]
     },
     "metadata": {},
     "output_type": "display_data"
    }
   ],
   "source": [
    "\n",
    "sns.displot(data=housing_eda, x=\"Price ($)\", kde=True, bins=50, height=8)\n",
    "plt.title(\"Distribution of Price($)\")\n",
    "plt.show()\n",
    "     "
   ]
  },
  {
   "attachments": {},
   "cell_type": "markdown",
   "id": "6fe59ad7",
   "metadata": {},
   "source": [
    "- The distribution of Price ($) is positvely skewed\n",
    "- Most houses are less than $700K USD, but some house can cost up to over $1.2M USD\n",
    "- Let's try to deskew it using a log scaler"
   ]
  },
  {
   "cell_type": "code",
   "execution_count": 27,
   "id": "c5f048bb",
   "metadata": {},
   "outputs": [
    {
     "data": {
      "image/png": "[encoded data removed]",
      "text/plain": [
       "<Figure size 800x800 with 1 Axes>"
      ]
     },
     "metadata": {},
     "output_type": "display_data"
    }
   ],
   "source": [
    "sns.displot(data=housing_eda, x=\"Price ($)\", kde=True, log_scale=True, bins=50, height = 8)\n",
    "plt.title(\"Distribution of Price (Log Scale)\")\n",
    "plt.show()"
   ]
  },
  {
   "attachments": {},
   "cell_type": "markdown",
   "id": "660481c5",
   "metadata": {},
   "source": [
    "- After performing log scaling, the prices seem to follow a normal distribution\n",
    "- Suggests that the prices of these houses follow a log normla distribution\n",
    "- (Log) Transformation of the target variable may improve the performance of the model "
   ]
  },
  {
   "attachments": {},
   "cell_type": "markdown",
   "id": "a23c64ea",
   "metadata": {},
   "source": [
    "**Discrete Variables**"
   ]
  },
  {
   "cell_type": "code",
   "execution_count": 32,
   "id": "205fa21e",
   "metadata": {},
   "outputs": [
    {
     "data": {
      "text/plain": [
       "<Axes: xlabel='No. of Bedrooms', ylabel='Count'>"
      ]
     },
     "execution_count": 32,
     "metadata": {},
     "output_type": "execute_result"
    },
    {
     "data": {
      "image/png": "[encoded data removed]",
      "text/plain": [
       "<Figure size 640x480 with 1 Axes>"
      ]
     },
     "metadata": {},
     "output_type": "display_data"
    }
   ],
   "source": [
    "discrete_features = ['No. of Bedrooms', 'No. of Toilets', 'Stories']\n",
    "# housing_eda[discrete_features].hist(figsize=(8, 8))\n",
    "# plt.tight_layout()\n",
    "# plt.show()\n",
    "sns.histplot(x='No. of Bedrooms', data=housing_eda)"
   ]
  },
  {
   "attachments": {},
   "cell_type": "markdown",
   "id": "1d890547",
   "metadata": {},
   "source": [
    "# Bivariate Analysis"
   ]
  },
  {
   "cell_type": "code",
   "execution_count": null,
   "id": "0ba12a92",
   "metadata": {},
   "outputs": [],
   "source": []
  },
  {
   "attachments": {},
   "cell_type": "markdown",
   "id": "5668a9b3",
   "metadata": {},
   "source": [
    "# Missing Values Analysis (Check if we need imputation)"
   ]
  },
  {
   "cell_type": "code",
   "execution_count": null,
   "id": "e4c3b5c0",
   "metadata": {},
   "outputs": [],
   "source": []
  },
  {
   "attachments": {},
   "cell_type": "markdown",
   "id": "7316b53c",
   "metadata": {},
   "source": [
    "# Data Preprocessing"
   ]
  },
  {
   "cell_type": "code",
   "execution_count": null,
   "id": "3e1fb181",
   "metadata": {},
   "outputs": [],
   "source": []
  }
 ],
 "metadata": {
  "kernelspec": {
   "display_name": "Python 3 (ipykernel)",
   "language": "python",
   "name": "python3"
  },
  "language_info": {
   "codemirror_mode": {
    "name": "ipython",
    "version": 3
   },
   "file_extension": ".py",
   "mimetype": "text/x-python",
   "name": "python",
   "nbconvert_exporter": "python",
   "pygments_lexer": "ipython3",
   "version": "3.10.9"
  }
 },
 "nbformat": 4,
 "nbformat_minor": 5
}
