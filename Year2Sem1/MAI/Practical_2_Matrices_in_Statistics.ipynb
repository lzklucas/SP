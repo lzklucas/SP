{
 "cells": [
  {
   "cell_type": "markdown",
   "metadata": {},
   "source": [
    "# Practical 2: Applications of Matrices in Statistics"
   ]
  },
  {
   "cell_type": "markdown",
   "metadata": {},
   "source": [
    "In a study on the cost of transporting milk from farms to dairy plants, a survey was taken of firms engaged in milk transportation. Cost data on $X_1$ = fuel, $X_2$ = repair and $X_3$ = capital, all measured on a per-mile basis from 34 firms were taken. The table below shows part of the data collected."
   ]
  },
  {
   "cell_type": "markdown",
   "metadata": {},
   "source": [
    "| Fuel ($X_1$) | Repair ($X_2$) | Capital ($X_3$) |\n",
    "| --- | --- | --- |\n",
    "| 16.44 | 12.43 | 11.23 |\n",
    "| 7.19 | 2.7 | 3.92 |\n",
    "| ⋮ | ⋮ | ⋮ |\n",
    "| 17.32 | 6.86 | 4.44 |"
   ]
  },
  {
   "cell_type": "markdown",
   "metadata": {},
   "source": [
    "(a) Plot a scatter matrix to visualise the relationship between $X_1$, $X_2$ and $X_3$. Are the data approximately multivariate normal?"
   ]
  },
  {
   "cell_type": "code",
   "execution_count": null,
   "metadata": {},
   "outputs": [],
   "source": [
    "import numpy as np\n",
    "import pandas as pd\n",
    "import seaborn as sns; sns.set()\n",
    "import matplotlib.pyplot as plt\n",
    "import os"
   ]
  },
  {
   "cell_type": "code",
   "execution_count": null,
   "metadata": {},
   "outputs": [],
   "source": [
    "os.chdir('D:/MS0240')"
   ]
  },
  {
   "cell_type": "code",
   "execution_count": null,
   "metadata": {},
   "outputs": [],
   "source": [
    "data = pd.read_csv(\"Practical2.csv\")\n",
    "data.head()"
   ]
  },
  {
   "cell_type": "code",
   "execution_count": null,
   "metadata": {},
   "outputs": [],
   "source": [
    "plt.clf()\n",
    "sm = sns.pairplot(data)\n",
    "plt.show()"
   ]
  },
  {
   "cell_type": "markdown",
   "metadata": {},
   "source": [
    "(b) Find the sample mean vector, sample covariance matrix and sample correlation matrix of **<span style='font-family:\"Times New Roman\"'> <span styel=''><font size=\"4\">X<font>**."
   ]
  },
  {
   "cell_type": "code",
   "execution_count": null,
   "metadata": {},
   "outputs": [],
   "source": [
    "#Find sample mean vector. axis=0 indicates each column in the data matrix is a variable.\n",
    "x_bar = np.mean(data, axis=0)"
   ]
  },
  {
   "cell_type": "code",
   "execution_count": null,
   "metadata": {},
   "outputs": [],
   "source": [
    "x_bar"
   ]
  },
  {
   "cell_type": "code",
   "execution_count": null,
   "metadata": {},
   "outputs": [],
   "source": [
    "#Find sample covariance matrix. rowvar=0 indicates each column in the data matrix is a variable. \n",
    "C = np.cov(data, rowvar=0)"
   ]
  },
  {
   "cell_type": "code",
   "execution_count": null,
   "metadata": {},
   "outputs": [],
   "source": [
    "C"
   ]
  },
  {
   "cell_type": "code",
   "execution_count": null,
   "metadata": {},
   "outputs": [],
   "source": [
    "#Find sample correlation matrix\n",
    "R = np.corrcoef(data, rowvar=0)"
   ]
  },
  {
   "cell_type": "code",
   "execution_count": null,
   "metadata": {},
   "outputs": [],
   "source": [
    "R"
   ]
  },
  {
   "cell_type": "markdown",
   "metadata": {},
   "source": [
    "(c) Find the generalised sample variance and total sample variance."
   ]
  },
  {
   "cell_type": "code",
   "execution_count": null,
   "metadata": {},
   "outputs": [],
   "source": [
    "#Find generalised sample variance\n",
    "np.linalg.det(C)"
   ]
  },
  {
   "cell_type": "code",
   "execution_count": null,
   "metadata": {},
   "outputs": [],
   "source": [
    "np.trace(C)"
   ]
  },
  {
   "cell_type": "markdown",
   "metadata": {},
   "source": [
    "(d) Compute the sample mean and sample variance of a firm’s operational cost of transporting milk per mile, which comprises of fuel cost and repair cost."
   ]
  },
  {
   "cell_type": "markdown",
   "metadata": {},
   "source": [
    "Let the operational cost of transporting milk be $Y_1$.<br>\n",
    "$Y_1 = X_1 + X_2$"
   ]
  },
  {
   "cell_type": "code",
   "execution_count": null,
   "metadata": {},
   "outputs": [],
   "source": [
    "#Find the data of operational cost\n",
    "y1 = data.loc[:,'Fuel'] + data.loc[:,'Repair']"
   ]
  },
  {
   "cell_type": "code",
   "execution_count": null,
   "metadata": {},
   "outputs": [],
   "source": [
    "#Find sample mean of operational cost\n",
    "y1_bar = np.mean(y1, axis=0)\n",
    "y1_bar"
   ]
  },
  {
   "cell_type": "code",
   "execution_count": null,
   "metadata": {},
   "outputs": [],
   "source": [
    "#Find sample variance of operational cost\n",
    "y1_C = np.cov(y1, rowvar=0)\n",
    "y1_C"
   ]
  },
  {
   "cell_type": "markdown",
   "metadata": {},
   "source": [
    "(e) Compute the sample mean and sample variance of a firm’s total cost of ownership of the trucks per mile for transporting milk, which comprises of fuel cost, repair cost and capital cost."
   ]
  },
  {
   "cell_type": "code",
   "execution_count": null,
   "metadata": {},
   "outputs": [],
   "source": []
  },
  {
   "cell_type": "markdown",
   "metadata": {},
   "source": [
    "(f) Determine the sample sample covariance matrix for the variables in parts (d) and (e)."
   ]
  },
  {
   "cell_type": "code",
   "execution_count": null,
   "metadata": {},
   "outputs": [],
   "source": []
  }
 ],
 "metadata": {
  "kernelspec": {
   "display_name": "Python 3",
   "language": "python",
   "name": "python3"
  },
  "language_info": {
   "codemirror_mode": {
    "name": "ipython",
    "version": 3
   },
   "file_extension": ".py",
   "mimetype": "text/x-python",
   "name": "python",
   "nbconvert_exporter": "python",
   "pygments_lexer": "ipython3",
   "version": "3.8.5"
  }
 },
 "nbformat": 4,
 "nbformat_minor": 2
}
